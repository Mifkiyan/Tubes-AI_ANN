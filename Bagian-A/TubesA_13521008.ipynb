{
 "cells": [
  {
   "cell_type": "code",
   "execution_count": null,
   "metadata": {},
   "outputs": [],
   "source": [
    "import numpy as np\n",
    "import json"
   ]
  },
  {
   "cell_type": "code",
   "execution_count": null,
   "metadata": {},
   "outputs": [],
   "source": [
    "# Layer Class\n",
    "class Layer:\n",
    "    def __init__(self, neuron: int, activation: str, weights: np.array, bias: np.array):\n",
    "        self.neuron = neuron\n",
    "        self.weights = weights\n",
    "        self.bias = bias\n",
    "        if activation == 'linear':\n",
    "            self.function = lambda x: x\n",
    "        elif activation == 'relu':\n",
    "            self.function = lambda x: np.maximum(0, x)\n",
    "        elif activation == 'sigmoid':\n",
    "            self.function = lambda x: 1 / (1 + np.exp(-x))\n",
    "        elif activation == 'softmax':\n",
    "            self.function = lambda x: np.exp(x) / np.sum(np.exp(x), axis=1, keepdims=True)\n",
    "        else:\n",
    "            raise ValueError('Invalid activation function')\n",
    "\n",
    "    def forward(self, input: np.array):\n",
    "        return self.function(np.dot(input, self.weights) + self.bias)"
   ]
  },
  {
   "cell_type": "code",
   "execution_count": null,
   "metadata": {},
   "outputs": [],
   "source": [
    "class FFNN:\n",
    "    def __init__(self, input: np.array, layers: list):\n",
    "        self.input = input\n",
    "        self.layers = layers\n",
    "\n",
    "    def add_layer(self, layer: Layer):\n",
    "        self.layers.append(layer)\n",
    "\n",
    "    def forward(self):\n",
    "        self.output = self.input\n",
    "        for layer in self.layers:\n",
    "            self.output = layer.forward(self.output)\n",
    "        return self.output"
   ]
  }
 ],
 "metadata": {
  "kernelspec": {
   "display_name": "mlenv",
   "language": "python",
   "name": "python3"
  },
  "language_info": {
   "name": "python",
   "version": "3.11.0"
  }
 },
 "nbformat": 4,
 "nbformat_minor": 2
}
