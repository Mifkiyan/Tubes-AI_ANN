{
 "cells": [
  {
   "cell_type": "code",
   "execution_count": 172,
   "metadata": {},
   "outputs": [],
   "source": [
    "import numpy as np\n",
    "import json\n",
    "from graphviz import Digraph"
   ]
  },
  {
   "cell_type": "code",
   "execution_count": 173,
   "metadata": {},
   "outputs": [],
   "source": [
    "# Layer Class\n",
    "class Layer:\n",
    "    def __init__(self, num_neuron: int, activation: str, weights: np.array, bias: np.array):\n",
    "        self.num_neuron = num_neuron\n",
    "        self.weights = weights\n",
    "        self.bias = bias\n",
    "        if activation == 'linear':\n",
    "            self.function = lambda x: x\n",
    "        elif activation == 'relu':\n",
    "            self.function = lambda x: np.maximum(0, x)\n",
    "        elif activation == 'sigmoid':\n",
    "            self.function = lambda x: 1 / (1 + np.exp(-x))\n",
    "        elif activation == 'softmax':\n",
    "            self.function = lambda x: np.exp(x) / np.sum(np.exp(x), axis=1, keepdims=True)\n",
    "        else:\n",
    "            raise ValueError('Invalid activation function')\n",
    "\n",
    "    def forward(self, input: np.array):\n",
    "        return self.function(np.dot(input, self.weights) + self.bias)"
   ]
  },
  {
   "cell_type": "code",
   "execution_count": 174,
   "metadata": {},
   "outputs": [],
   "source": [
    "# FFNN Class\n",
    "class FFNN:\n",
    "    def __init__(self, input_size:int, input: np.array, layers: list):\n",
    "        self.input_size = input_size\n",
    "        self.input = input\n",
    "        self.layers = layers\n",
    "        self.output = None\n",
    "\n",
    "    def add_layer(self, layer: Layer):\n",
    "        self.layers.append(layer)\n",
    "\n",
    "    def forward(self):\n",
    "        self.output = self.input\n",
    "        for layer in self.layers:\n",
    "            self.output = layer.forward(self.output)\n",
    "            print(layer.weights)\n",
    "        return self.output\n",
    "\n",
    "    def visualize(self):\n",
    "        dot = Digraph(comment=\"Feed Forward Neural Network\")\n",
    "\n",
    "        # if theres only input and output layer\n",
    "        if len(self.layers) == 1:\n",
    "            for i in range(self.input_size):\n",
    "                for j in range(len(self.output[0])):\n",
    "                    dot.edge(f\"input{i+1}\", f\"output{j+1}\", label=f\"{self.layers[0].weights[i][j]}\")\n",
    "        \n",
    "        # TODO: perfect the visualization\n",
    "        # if theres hidden layer\n",
    "        else:\n",
    "            # Input Layer\n",
    "            for i in range(self.input_size):\n",
    "                dot.node(f\"Input {i+1}\", f\"Input {i+1}\")\n",
    "            \n",
    "            # Hidden Layer\n",
    "            for i in range(len(self.layers)):\n",
    "                for j in range(self.layers[i].num_neuron):\n",
    "                    dot.node(f\"Hidden {i+1}.{j+1}\", f\"Hidden {i+1}.{j+1}\")\n",
    "\n",
    "                if i == 0:\n",
    "                    for k in range(self.input_size):\n",
    "                        for j in range(self.layers[i].num_neuron):\n",
    "                            dot.edge(f\"Input {k+1}\", f\"Hidden {i+1}.{j+1}\", label=f\"{self.layers[i].weights[k][j]}\")\n",
    "                \n",
    "                else:\n",
    "                    for k in range(self.layers[i-1].num_neuron):\n",
    "                        for j in range(self.layers[i].num_neuron):\n",
    "                            dot.edge(f\"Hidden {i}.{k+1}\", f\"Hidden {i+1}.{j+1}\", label=f\"{self.layers[i].weights[k][j]}\")\n",
    "            \n",
    "            # Output Layer\n",
    "            for i in range(len(self.output[0])):\n",
    "                dot.node(f\"Output {i+1}\", f\"Output {i+1}\")\n",
    "                print(f\"Output {i+1}\")\n",
    "            \n",
    "            for i in range(self.layers[-1].num_neuron):\n",
    "                for j in range(len(self.output[0])):\n",
    "                    dot.edge(f\"Hidden {len(self.layers)}.{i+1}\", f\"Output {j+1}\", label=f\"{self.output[i][j]}\")\n",
    "        \n",
    "        return dot"
   ]
  },
  {
   "cell_type": "code",
   "execution_count": 175,
   "metadata": {},
   "outputs": [
    {
     "name": "stdout",
     "output_type": "stream",
     "text": [
      "[[-0.5  0.6  0.7  0.5]\n",
      " [ 0.9  1.  -1.1 -1. ]\n",
      " [ 1.3  1.4  1.5  0.1]]\n",
      "[[-0.4  0.5  0.6]\n",
      " [ 0.7  0.4 -0.9]\n",
      " [ 0.2  0.3  0.4]\n",
      " [-0.1  0.2  0.1]]\n",
      "[[-0.3  0.4]\n",
      " [ 0.6  0.1]\n",
      " [ 0.1 -0.4]]\n",
      "[[-0.2]\n",
      " [ 0.3]]\n",
      "[[0.4846748]]\n"
     ]
    }
   ],
   "source": [
    "input_file = str(input(\"Enter the input file name (JSON only): \"))\n",
    "# input_file = \"multilayer.json\"\n",
    "with open(f\"test-case/{input_file}.json\", \"r\") as file:\n",
    "    model = json.load(file)\n",
    "\n",
    "input_size = model[\"case\"][\"model\"][\"input_size\"]\n",
    "input_array = np.array(model[\"case\"][\"input\"])\n",
    "layers = model[\"case\"][\"model\"][\"layers\"]\n",
    "ffnn = FFNN(input_size, input_array, [])\n",
    "for i in range(len(layers)):\n",
    "    layer = layers[i]\n",
    "    weight = model[\"case\"][\"weights\"][i]\n",
    "    new_layer = Layer(layer[\"number_of_neurons\"], layer[\"activation_function\"], np.array(weight[1:]), np.array(weight[0]))\n",
    "    ffnn.add_layer(new_layer)\n",
    "\n",
    "ffnn.forward()\n",
    "print(ffnn.output)"
   ]
  },
  {
   "cell_type": "code",
   "execution_count": 176,
   "metadata": {},
   "outputs": [
    {
     "name": "stdout",
     "output_type": "stream",
     "text": [
      "Output 1\n"
     ]
    },
    {
     "data": {
      "text/plain": [
       "'model_visual.png'"
      ]
     },
     "execution_count": 176,
     "metadata": {},
     "output_type": "execute_result"
    }
   ],
   "source": [
    "dot = ffnn.visualize()\n",
    "dot.render(\"model_visual\", format=\"png\", cleanup=True)"
   ]
  }
 ],
 "metadata": {
  "kernelspec": {
   "display_name": "Python 3 (ipykernel)",
   "language": "python",
   "name": "python3"
  },
  "language_info": {
   "codemirror_mode": {
    "name": "ipython",
    "version": 3
   },
   "file_extension": ".py",
   "mimetype": "text/x-python",
   "name": "python",
   "nbconvert_exporter": "python",
   "pygments_lexer": "ipython3",
   "version": "3.11.0"
  }
 },
 "nbformat": 4,
 "nbformat_minor": 2
}
