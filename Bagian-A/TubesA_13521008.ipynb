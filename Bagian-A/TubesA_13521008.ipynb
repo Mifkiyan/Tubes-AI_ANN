{
 "cells": [
  {
   "cell_type": "code",
   "execution_count": 15,
   "metadata": {},
   "outputs": [],
   "source": [
    "import numpy as np\n",
    "import json\n",
    "from graphviz import Digraph"
   ]
  },
  {
   "cell_type": "code",
   "execution_count": 16,
   "metadata": {},
   "outputs": [],
   "source": [
    "# Layer Class\n",
    "class Layer:\n",
    "    def __init__(self, num_neuron: int, activation: str, weights: np.array, bias: np.array):\n",
    "        self.num_neuron = num_neuron\n",
    "        self.weights = weights\n",
    "        self.bias = bias\n",
    "        if activation == 'linear':\n",
    "            self.function = lambda x: x\n",
    "        elif activation == 'relu':\n",
    "            self.function = lambda x: np.maximum(0, x)\n",
    "        elif activation == 'sigmoid':\n",
    "            self.function = lambda x: 1 / (1 + np.exp(-x))\n",
    "        elif activation == 'softmax':\n",
    "            self.function = lambda x: np.exp(x) / np.sum(np.exp(x), axis=1, keepdims=True)\n",
    "        else:\n",
    "            raise ValueError('Invalid activation function')\n",
    "\n",
    "    def forward(self, input: np.array):\n",
    "        return self.function(np.dot(input, self.weights) + self.bias)"
   ]
  },
  {
   "cell_type": "code",
   "execution_count": 17,
   "metadata": {},
   "outputs": [],
   "source": [
    "# FFNN Class\n",
    "class FFNN:\n",
    "    def __init__(self, input_size:int, input: np.array, layers: list):\n",
    "        self.input_size = input_size\n",
    "        self.input = input\n",
    "        self.layers = layers\n",
    "        self.output = None\n",
    "\n",
    "    def add_layer(self, layer: Layer):\n",
    "        self.layers.append(layer)\n",
    "\n",
    "    def forward(self):\n",
    "        self.output = self.input\n",
    "        for layer in self.layers:\n",
    "            self.output = layer.forward(self.output)\n",
    "        return self.output\n",
    "\n",
    "    def visualize(self):\n",
    "        dot = Digraph(comment=\"Feed Forward Neural Network\")\n",
    "        dot.attr(rankdir='LR', nodesep='1', ranksep='2')\n",
    "        dot.attr('node', shape='circle', width='0.5', height='0.5')\n",
    "\n",
    "        # if there's only input and output layer\n",
    "        if len(self.layers) == 1:\n",
    "            for i in range(self.input_size):\n",
    "                for j in range(len(self.output[0])):\n",
    "                    dot.edge(f\"Input {i+1}\", f\"Output {j+1}\", xlabel=f\"{self.layers[0].weights[i][j]}\")\n",
    "        \n",
    "        else:\n",
    "            # Input Layer\n",
    "            for i in range(self.input_size):\n",
    "                dot.node(f\"Input {i+1}\", f\"Input {i+1}\")\n",
    "            \n",
    "            # Hidden Layers\n",
    "            for i in range(len(self.layers)-1):\n",
    "                for j in range(self.layers[i].num_neuron):\n",
    "                    dot.node(f\"Hidden {i+1}.{j+1}\", f\"Hidden {i+1}.{j+1}\")\n",
    "\n",
    "                if i == 0:\n",
    "                    for k in range(self.input_size):\n",
    "                        for j in range(self.layers[i].num_neuron):\n",
    "                            dot.edge(f\"Input {k+1}\", f\"Hidden {i+1}.{j+1}\", label=f\"{self.layers[i].weights[k][j]:.2f}\")\n",
    "\n",
    "                else:\n",
    "                    for k in range(self.layers[i-1].num_neuron):\n",
    "                        for j in range(self.layers[i].num_neuron):\n",
    "                            dot.edge(f\"Hidden {i}.{k+1}\", f\"Hidden {i+1}.{j+1}\", label=f\"{self.layers[i].weights[k][j]:.2f}\")\n",
    "            \n",
    "            # Output Layer\n",
    "            for i in range(len(self.output[0])):\n",
    "                dot.node(f\"Output {i+1}\", f\"Output {i+1}\")\n",
    "            \n",
    "            for k in range(self.layers[-2].num_neuron):\n",
    "                for j in range(len(self.output[0])):\n",
    "                    dot.edge(f\"Hidden {len(self.layers)-1}.{k+1}\", f\"Output {j+1}\", label=f\"{self.layers[-1].weights[k][j]:.2f}\")\n",
    "\n",
    "        return dot"
   ]
  },
  {
   "cell_type": "code",
   "execution_count": 18,
   "metadata": {},
   "outputs": [
    {
     "name": "stdout",
     "output_type": "stream",
     "text": [
      "Test case: multilayer.json\n",
      "\n",
      "Output:\n",
      "[[0.4846748]]\n",
      "\n",
      "SSE: 0.00000000\n",
      "\n",
      "Test Result:\n",
      "Passed\n"
     ]
    }
   ],
   "source": [
    "input_file = str(input(\"Enter the input file name (JSON only): \"))\n",
    "print(f\"Test case: {input_file}.json\\n\")\n",
    "with open(f\"test-case/{input_file}.json\", \"r\") as file:\n",
    "    model = json.load(file)\n",
    "\n",
    "input_size = model[\"case\"][\"model\"][\"input_size\"]\n",
    "input_array = np.array(model[\"case\"][\"input\"])\n",
    "layers = model[\"case\"][\"model\"][\"layers\"]\n",
    "ffnn = FFNN(input_size, input_array, [])\n",
    "for i in range(len(layers)):\n",
    "    layer = layers[i]\n",
    "    weight = model[\"case\"][\"weights\"][i]\n",
    "    new_layer = Layer(layer[\"number_of_neurons\"], layer[\"activation_function\"], np.array(weight[1:]), np.array(weight[0]))\n",
    "    ffnn.add_layer(new_layer)\n",
    "\n",
    "ffnn.forward()\n",
    "print(\"Output:\")\n",
    "print(ffnn.output)\n",
    "\n",
    "sse = np.sum((ffnn.output - np.array(model[\"expect\"][\"output\"]))**2)\n",
    "print(f\"\\nSSE: {sse:.8f}\\n\")\n",
    "\n",
    "print(\"Test Result:\")\n",
    "if (sse < model[\"expect\"][\"max_sse\"]):\n",
    "    print(\"Passed\")\n",
    "else:\n",
    "    print(\"Failed\")"
   ]
  },
  {
   "cell_type": "code",
   "execution_count": 19,
   "metadata": {},
   "outputs": [
    {
     "data": {
      "text/plain": [
       "'model_visual.png'"
      ]
     },
     "execution_count": 19,
     "metadata": {},
     "output_type": "execute_result"
    }
   ],
   "source": [
    "dot = ffnn.visualize()\n",
    "dot.render(\"model_visual\", format=\"png\", cleanup=True)"
   ]
  }
 ],
 "metadata": {
  "kernelspec": {
   "display_name": "Python 3 (ipykernel)",
   "language": "python",
   "name": "python3"
  },
  "language_info": {
   "codemirror_mode": {
    "name": "ipython",
    "version": 3
   },
   "file_extension": ".py",
   "mimetype": "text/x-python",
   "name": "python",
   "nbconvert_exporter": "python",
   "pygments_lexer": "ipython3",
   "version": "3.11.0"
  }
 },
 "nbformat": 4,
 "nbformat_minor": 2
}
