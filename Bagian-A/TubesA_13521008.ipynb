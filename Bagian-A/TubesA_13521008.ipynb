{
 "cells": [
  {
   "cell_type": "code",
   "execution_count": 76,
   "metadata": {},
   "outputs": [],
   "source": [
    "import numpy as np\n",
    "import json"
   ]
  },
  {
   "cell_type": "code",
   "execution_count": 77,
   "metadata": {},
   "outputs": [],
   "source": [
    "# Layer Class\n",
    "class Layer:\n",
    "    def __init__(self, num_neuron: int, activation: str, weights: np.array, bias: np.array):\n",
    "        self.num_neuron = num_neuron\n",
    "        self.weights = weights\n",
    "        self.bias = bias\n",
    "        if activation == 'linear':\n",
    "            self.function = lambda x: x\n",
    "        elif activation == 'relu':\n",
    "            self.function = lambda x: np.maximum(0, x)\n",
    "        elif activation == 'sigmoid':\n",
    "            self.function = lambda x: 1 / (1 + np.exp(-x))\n",
    "        elif activation == 'softmax':\n",
    "            self.function = lambda x: np.exp(x) / np.sum(np.exp(x), axis=1, keepdims=True)\n",
    "        else:\n",
    "            raise ValueError('Invalid activation function')\n",
    "\n",
    "    def forward(self, input: np.array):\n",
    "        return self.function(np.dot(input, self.weights) + self.bias)"
   ]
  },
  {
   "cell_type": "code",
   "execution_count": 78,
   "metadata": {},
   "outputs": [],
   "source": [
    "# FFNN Class\n",
    "class FFNN:\n",
    "    def __init__(self, input: np.array, layers: list):\n",
    "        self.input = input\n",
    "        self.layers = layers\n",
    "\n",
    "    def add_layer(self, layer: Layer):\n",
    "        self.layers.append(layer)\n",
    "\n",
    "    def forward(self):\n",
    "        output = self.input\n",
    "        for layer in self.layers:\n",
    "            output = layer.forward(output)\n",
    "        return output"
   ]
  },
  {
   "cell_type": "code",
   "execution_count": 79,
   "metadata": {},
   "outputs": [
    {
     "name": "stdout",
     "output_type": "stream",
     "text": [
      "[[0.4846748]]\n"
     ]
    }
   ],
   "source": [
    "# input_file = str(input(\"Enter the input file name: \"))\n",
    "input_file = \"multilayer.json\"\n",
    "with open(f\"test-case/{input_file}\", \"r\") as file:\n",
    "    model = json.load(file)\n",
    "\n",
    "input_array = np.array(model[\"case\"][\"input\"])\n",
    "layers = model[\"case\"][\"model\"][\"layers\"]\n",
    "ffnn = FFNN((input_array), [])\n",
    "for i in range(len(layers)):\n",
    "    layer = layers[i]\n",
    "    weight = model[\"case\"][\"weights\"][i]\n",
    "    new_layer = Layer(layer[\"number_of_neurons\"], layer[\"activation_function\"], np.array(weight[1:]), np.array(weight[0]))\n",
    "    ffnn.add_layer(new_layer)\n",
    "\n",
    "output = ffnn.forward()\n",
    "print(output)"
   ]
  }
 ],
 "metadata": {
  "kernelspec": {
   "display_name": "mlenv",
   "language": "python",
   "name": "python3"
  },
  "language_info": {
   "codemirror_mode": {
    "name": "ipython",
    "version": 3
   },
   "file_extension": ".py",
   "mimetype": "text/x-python",
   "name": "python",
   "nbconvert_exporter": "python",
   "pygments_lexer": "ipython3",
   "version": "3.11.0"
  }
 },
 "nbformat": 4,
 "nbformat_minor": 2
}
